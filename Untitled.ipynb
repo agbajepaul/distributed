{
 "cells": [
  {
   "cell_type": "code",
   "execution_count": 1,
   "id": "efe1d241",
   "metadata": {},
   "outputs": [],
   "source": [
    "import torch\n",
    "import torch.nn.functional as F"
   ]
  },
  {
   "cell_type": "code",
   "execution_count": 21,
   "id": "5e0fdcd0",
   "metadata": {},
   "outputs": [],
   "source": [
    "predictions = torch.log(torch.rand(3))"
   ]
  },
  {
   "cell_type": "code",
   "execution_count": 19,
   "id": "d700e9d3",
   "metadata": {},
   "outputs": [
    {
     "data": {
      "text/plain": [
       "tensor([-3.6872, -0.2963, -0.4556])"
      ]
     },
     "execution_count": 19,
     "metadata": {},
     "output_type": "execute_result"
    }
   ],
   "source": [
    "predictions"
   ]
  },
  {
   "cell_type": "code",
   "execution_count": 29,
   "id": "085b6ccf",
   "metadata": {},
   "outputs": [],
   "source": [
    "predictions = predictions / 0.05"
   ]
  },
  {
   "cell_type": "code",
   "execution_count": 23,
   "id": "07c13b0c",
   "metadata": {},
   "outputs": [
    {
     "data": {
      "text/plain": [
       "tensor([0.4206, 0.1908, 0.3885])"
      ]
     },
     "execution_count": 23,
     "metadata": {},
     "output_type": "execute_result"
    }
   ],
   "source": [
    "F.softmax(predictions, dim=0)"
   ]
  },
  {
   "cell_type": "code",
   "execution_count": 25,
   "id": "82ed07ab",
   "metadata": {},
   "outputs": [
    {
     "data": {
      "text/plain": [
       "tensor([0.4856, 0.1000, 0.4144])"
      ]
     },
     "execution_count": 25,
     "metadata": {},
     "output_type": "execute_result"
    }
   ],
   "source": [
    "F.softmax(predictions, dim=0)    # 0.5"
   ]
  },
  {
   "cell_type": "code",
   "execution_count": 28,
   "id": "16e63694",
   "metadata": {},
   "outputs": [
    {
     "data": {
      "text/plain": [
       "tensor([8.3017e-01, 1.1337e-07, 1.6983e-01])"
      ]
     },
     "execution_count": 28,
     "metadata": {},
     "output_type": "execute_result"
    }
   ],
   "source": [
    "F.softmax(predictions, dim=0)  # 0.1"
   ]
  },
  {
   "cell_type": "code",
   "execution_count": 30,
   "id": "17f553f7",
   "metadata": {},
   "outputs": [
    {
     "data": {
      "text/plain": [
       "tensor([1.0000e+00, 0.0000e+00, 1.6480e-14])"
      ]
     },
     "execution_count": 30,
     "metadata": {},
     "output_type": "execute_result"
    }
   ],
   "source": [
    "F.softmax(predictions, dim=0)   # 0.05"
   ]
  },
  {
   "cell_type": "code",
   "execution_count": null,
   "id": "e473c4eb",
   "metadata": {},
   "outputs": [],
   "source": []
  }
 ],
 "metadata": {
  "kernelspec": {
   "display_name": "neural_net_udemy",
   "language": "python",
   "name": "neural_net_udemy"
  },
  "language_info": {
   "codemirror_mode": {
    "name": "ipython",
    "version": 3
   },
   "file_extension": ".py",
   "mimetype": "text/x-python",
   "name": "python",
   "nbconvert_exporter": "python",
   "pygments_lexer": "ipython3",
   "version": "3.7.16"
  }
 },
 "nbformat": 4,
 "nbformat_minor": 5
}
